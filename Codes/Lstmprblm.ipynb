{
  "cells": [
    {
      "cell_type": "code",
      "execution_count": 1,
      "metadata": {
        "id": "Nvcor921DOTF"
      },
      "outputs": [],
      "source": [
        "!pip3 install tensorflow_text>=2.0.0rc0\n"
      ]
    },
    {
      "cell_type": "code",
      "execution_count": 21,
      "metadata": {
        "id": "gXYlm55fUnsx"
      },
      "outputs": [],
      "source": [
        "import pandas as pd\n",
        "import numpy as np\n",
        "import tensorflow as tf\n",
        "from tensorflow.keras.preprocessing.text import Tokenizer\n",
        "from tensorflow.keras.preprocessing.sequence import pad_sequences\n",
        "from tensorflow.keras.models import Sequential\n",
        "from tensorflow.keras.layers import Embedding, LSTM, Dense\n"
      ]
    },
    {
      "cell_type": "code",
      "execution_count": 22,
      "metadata": {
        "id": "FGdn9R0_U68E"
      },
      "outputs": [],
      "source": [
        "data=pd.read_csv('/content/data_with_predictions.csv')"
      ]
    },
    {
      "cell_type": "code",
      "execution_count": 23,
      "metadata": {
        "id": "dHrSGsuFU9c2"
      },
      "outputs": [],
      "source": [
        "\n",
        "data=data.dropna()\n",
        "data=data.drop('commentaire',axis=1)"
      ]
    },
    {
      "cell_type": "code",
      "execution_count": 24,
      "metadata": {
        "id": "o6mjDVJHd1P7"
      },
      "outputs": [],
      "source": [
        "max_words = 10000  # Nombre maximum de mots à prendre en compte\n",
        "max_len = 100  # Longueur maximale d'une séquence\n",
        "\n",
        "# Tokenisation des articles\n",
        "tokenizer = Tokenizer(num_words=max_words)\n",
        "tokenizer.fit_on_texts(data['predicted_problems'])\n",
        "sequences = tokenizer.texts_to_sequences(data['predicted_problems'])"
      ]
    },
    {
      "cell_type": "code",
      "execution_count": 25,
      "metadata": {
        "id": "Dnelu_qIeZnB"
      },
      "outputs": [],
      "source": [
        "labels = pd.get_dummies(data['predicted_problems']).values"
      ]
    },
    {
      "cell_type": "code",
      "execution_count": 26,
      "metadata": {
        "id": "jZgvhPoredb7"
      },
      "outputs": [],
      "source": [
        "# Padding des séquences\n",
        "padded_sequences = pad_sequences(sequences, maxlen=max_len)\n",
        "\n",
        "# Conversion des catégories en labels numériques\n",
        "labels = pd.get_dummies(data['predicted_problems']).values\n",
        "train_ratio = 0.8  # Pourcentage d'articles à utiliser pour l'entraînement\n",
        "train_size = int(len(padded_sequences) * train_ratio)\n",
        "train_data = padded_sequences[:train_size]\n",
        "train_labels = labels[:train_size]\n",
        "test_data = padded_sequences[train_size:]\n",
        "test_labels = labels[train_size:]"
      ]
    },
    {
      "cell_type": "code",
      "execution_count": 27,
      "metadata": {
        "id": "86oa5z4nefRx"
      },
      "outputs": [],
      "source": [
        "embedding_dim = 100  # Dimension de l'espace d'incorporation des mots\n",
        "\n",
        "model = Sequential()\n",
        "model.add(Embedding(max_words, embedding_dim, input_length=max_len))\n",
        "model.add(LSTM(128))\n",
        "model.add(Dense(labels.shape[1], activation='softmax'))\n"
      ]
    },
    {
      "cell_type": "code",
      "execution_count": 28,
      "metadata": {
        "id": "VCwKty2Me0IF"
      },
      "outputs": [],
      "source": [
        "model.compile(optimizer='adam', loss='categorical_crossentropy', metrics=['accuracy'])"
      ]
    },
    {
      "cell_type": "code",
      "execution_count": 29,
      "metadata": {
        "colab": {
          "base_uri": "https://localhost:8080/"
        },
        "id": "A0lxxrIre_xH",
        "outputId": "ff0d5f9d-40d5-4b80-9bdd-8a57ddc15e66"
      },
      "outputs": [
        {
          "output_type": "stream",
          "name": "stdout",
          "text": [
            "Epoch 1/100\n",
            "213/213 [==============================] - 7s 19ms/step - loss: 1.3439 - accuracy: 0.7144 - val_loss: 2.2610 - val_accuracy: 0.5618\n",
            "Epoch 2/100\n",
            "213/213 [==============================] - 2s 8ms/step - loss: 0.3697 - accuracy: 0.9247 - val_loss: 1.4325 - val_accuracy: 0.7118\n",
            "Epoch 3/100\n",
            "213/213 [==============================] - 2s 8ms/step - loss: 0.1787 - accuracy: 0.9684 - val_loss: 1.0473 - val_accuracy: 0.8171\n",
            "Epoch 4/100\n",
            "213/213 [==============================] - 2s 10ms/step - loss: 0.1008 - accuracy: 0.9826 - val_loss: 0.8605 - val_accuracy: 0.8418\n",
            "Epoch 5/100\n",
            "213/213 [==============================] - 2s 10ms/step - loss: 0.0641 - accuracy: 0.9898 - val_loss: 0.7581 - val_accuracy: 0.8800\n",
            "Epoch 6/100\n",
            "213/213 [==============================] - 2s 8ms/step - loss: 0.0425 - accuracy: 0.9931 - val_loss: 0.6893 - val_accuracy: 0.9065\n",
            "Epoch 7/100\n",
            "213/213 [==============================] - 2s 8ms/step - loss: 0.0297 - accuracy: 0.9957 - val_loss: 0.6358 - val_accuracy: 0.9165\n",
            "Epoch 8/100\n",
            "213/213 [==============================] - 2s 8ms/step - loss: 0.0206 - accuracy: 0.9981 - val_loss: 0.6164 - val_accuracy: 0.9282\n",
            "Epoch 9/100\n",
            "213/213 [==============================] - 2s 8ms/step - loss: 0.0147 - accuracy: 0.9985 - val_loss: 0.5872 - val_accuracy: 0.9347\n",
            "Epoch 10/100\n",
            "213/213 [==============================] - 2s 9ms/step - loss: 0.0106 - accuracy: 0.9991 - val_loss: 0.5986 - val_accuracy: 0.9347\n",
            "Epoch 11/100\n",
            "213/213 [==============================] - 2s 11ms/step - loss: 0.0075 - accuracy: 0.9997 - val_loss: 0.5738 - val_accuracy: 0.9394\n",
            "Epoch 12/100\n",
            "213/213 [==============================] - 2s 9ms/step - loss: 0.0054 - accuracy: 1.0000 - val_loss: 0.5871 - val_accuracy: 0.9394\n",
            "Epoch 13/100\n",
            "213/213 [==============================] - 2s 8ms/step - loss: 0.0041 - accuracy: 1.0000 - val_loss: 0.5885 - val_accuracy: 0.9394\n",
            "Epoch 14/100\n",
            "213/213 [==============================] - 2s 8ms/step - loss: 0.0031 - accuracy: 1.0000 - val_loss: 0.5936 - val_accuracy: 0.9394\n",
            "Epoch 15/100\n",
            "213/213 [==============================] - 2s 8ms/step - loss: 0.0025 - accuracy: 1.0000 - val_loss: 0.5955 - val_accuracy: 0.9394\n",
            "Epoch 16/100\n",
            "213/213 [==============================] - 2s 8ms/step - loss: 0.0020 - accuracy: 1.0000 - val_loss: 0.6021 - val_accuracy: 0.9394\n",
            "Epoch 17/100\n",
            "213/213 [==============================] - 2s 9ms/step - loss: 0.0017 - accuracy: 1.0000 - val_loss: 0.6056 - val_accuracy: 0.9394\n",
            "Epoch 18/100\n",
            "213/213 [==============================] - 2s 11ms/step - loss: 0.0014 - accuracy: 1.0000 - val_loss: 0.6099 - val_accuracy: 0.9394\n",
            "Epoch 19/100\n",
            "213/213 [==============================] - 2s 8ms/step - loss: 0.0012 - accuracy: 1.0000 - val_loss: 0.6133 - val_accuracy: 0.9394\n",
            "Epoch 20/100\n",
            "213/213 [==============================] - 2s 8ms/step - loss: 9.9729e-04 - accuracy: 1.0000 - val_loss: 0.6182 - val_accuracy: 0.9394\n",
            "Epoch 21/100\n",
            "213/213 [==============================] - 2s 9ms/step - loss: 8.5101e-04 - accuracy: 1.0000 - val_loss: 0.6235 - val_accuracy: 0.9394\n",
            "Epoch 22/100\n",
            "213/213 [==============================] - 2s 8ms/step - loss: 7.3319e-04 - accuracy: 1.0000 - val_loss: 0.6268 - val_accuracy: 0.9394\n",
            "Epoch 23/100\n",
            "213/213 [==============================] - 2s 8ms/step - loss: 6.3406e-04 - accuracy: 1.0000 - val_loss: 0.6305 - val_accuracy: 0.9394\n",
            "Epoch 24/100\n",
            "213/213 [==============================] - 2s 8ms/step - loss: 5.5282e-04 - accuracy: 1.0000 - val_loss: 0.6348 - val_accuracy: 0.9394\n",
            "Epoch 25/100\n",
            "213/213 [==============================] - 2s 11ms/step - loss: 4.8318e-04 - accuracy: 1.0000 - val_loss: 0.6391 - val_accuracy: 0.9394\n",
            "Epoch 26/100\n",
            "213/213 [==============================] - 2s 8ms/step - loss: 4.2462e-04 - accuracy: 1.0000 - val_loss: 0.6422 - val_accuracy: 0.9394\n",
            "Epoch 27/100\n",
            "213/213 [==============================] - 2s 8ms/step - loss: 3.7191e-04 - accuracy: 1.0000 - val_loss: 0.6461 - val_accuracy: 0.9394\n",
            "Epoch 28/100\n",
            "213/213 [==============================] - 2s 8ms/step - loss: 3.2725e-04 - accuracy: 1.0000 - val_loss: 0.6499 - val_accuracy: 0.9394\n",
            "Epoch 29/100\n",
            "213/213 [==============================] - 2s 8ms/step - loss: 2.8993e-04 - accuracy: 1.0000 - val_loss: 0.6505 - val_accuracy: 0.9394\n",
            "Epoch 30/100\n",
            "213/213 [==============================] - 2s 8ms/step - loss: 2.5671e-04 - accuracy: 1.0000 - val_loss: 0.6545 - val_accuracy: 0.9394\n",
            "Epoch 31/100\n",
            "213/213 [==============================] - 3s 12ms/step - loss: 2.2696e-04 - accuracy: 1.0000 - val_loss: 0.6593 - val_accuracy: 0.9394\n",
            "Epoch 32/100\n",
            "213/213 [==============================] - 2s 9ms/step - loss: 2.0083e-04 - accuracy: 1.0000 - val_loss: 0.6632 - val_accuracy: 0.9394\n",
            "Epoch 33/100\n",
            "213/213 [==============================] - 2s 8ms/step - loss: 1.7873e-04 - accuracy: 1.0000 - val_loss: 0.6668 - val_accuracy: 0.9394\n",
            "Epoch 34/100\n",
            "213/213 [==============================] - 2s 8ms/step - loss: 1.5951e-04 - accuracy: 1.0000 - val_loss: 0.6701 - val_accuracy: 0.9394\n",
            "Epoch 35/100\n",
            "213/213 [==============================] - 2s 8ms/step - loss: 1.4193e-04 - accuracy: 1.0000 - val_loss: 0.6739 - val_accuracy: 0.9394\n",
            "Epoch 36/100\n",
            "213/213 [==============================] - 2s 8ms/step - loss: 1.2622e-04 - accuracy: 1.0000 - val_loss: 0.6769 - val_accuracy: 0.9394\n",
            "Epoch 37/100\n",
            "213/213 [==============================] - 2s 8ms/step - loss: 1.1263e-04 - accuracy: 1.0000 - val_loss: 0.6801 - val_accuracy: 0.9394\n",
            "Epoch 38/100\n",
            "213/213 [==============================] - 2s 11ms/step - loss: 1.0036e-04 - accuracy: 1.0000 - val_loss: 0.6826 - val_accuracy: 0.9394\n",
            "Epoch 39/100\n",
            "213/213 [==============================] - 2s 9ms/step - loss: 8.9669e-05 - accuracy: 1.0000 - val_loss: 0.6862 - val_accuracy: 0.9394\n",
            "Epoch 40/100\n",
            "213/213 [==============================] - 2s 8ms/step - loss: 8.0035e-05 - accuracy: 1.0000 - val_loss: 0.6891 - val_accuracy: 0.9394\n",
            "Epoch 41/100\n",
            "213/213 [==============================] - 2s 8ms/step - loss: 7.1564e-05 - accuracy: 1.0000 - val_loss: 0.6933 - val_accuracy: 0.9394\n",
            "Epoch 42/100\n",
            "213/213 [==============================] - 2s 8ms/step - loss: 6.3894e-05 - accuracy: 1.0000 - val_loss: 0.6962 - val_accuracy: 0.9394\n",
            "Epoch 43/100\n",
            "213/213 [==============================] - 2s 8ms/step - loss: 5.7296e-05 - accuracy: 1.0000 - val_loss: 0.7000 - val_accuracy: 0.9394\n",
            "Epoch 44/100\n",
            "213/213 [==============================] - 2s 8ms/step - loss: 5.1057e-05 - accuracy: 1.0000 - val_loss: 0.7030 - val_accuracy: 0.9394\n",
            "Epoch 45/100\n",
            "213/213 [==============================] - 2s 10ms/step - loss: 4.5888e-05 - accuracy: 1.0000 - val_loss: 0.7084 - val_accuracy: 0.9394\n",
            "Epoch 46/100\n",
            "213/213 [==============================] - 2s 8ms/step - loss: 4.1140e-05 - accuracy: 1.0000 - val_loss: 0.7096 - val_accuracy: 0.9394\n",
            "Epoch 47/100\n",
            "213/213 [==============================] - 2s 8ms/step - loss: 3.6776e-05 - accuracy: 1.0000 - val_loss: 0.7144 - val_accuracy: 0.9394\n",
            "Epoch 48/100\n",
            "213/213 [==============================] - 2s 9ms/step - loss: 3.3028e-05 - accuracy: 1.0000 - val_loss: 0.7171 - val_accuracy: 0.9394\n",
            "Epoch 49/100\n",
            "213/213 [==============================] - 2s 8ms/step - loss: 2.9617e-05 - accuracy: 1.0000 - val_loss: 0.7212 - val_accuracy: 0.9394\n",
            "Epoch 50/100\n",
            "213/213 [==============================] - 2s 8ms/step - loss: 2.6602e-05 - accuracy: 1.0000 - val_loss: 0.7252 - val_accuracy: 0.9394\n",
            "Epoch 51/100\n",
            "213/213 [==============================] - 2s 9ms/step - loss: 2.3696e-05 - accuracy: 1.0000 - val_loss: 0.7283 - val_accuracy: 0.9394\n",
            "Epoch 52/100\n",
            "213/213 [==============================] - 2s 10ms/step - loss: 2.1301e-05 - accuracy: 1.0000 - val_loss: 0.7319 - val_accuracy: 0.9394\n",
            "Epoch 53/100\n",
            "213/213 [==============================] - 2s 8ms/step - loss: 1.9089e-05 - accuracy: 1.0000 - val_loss: 0.7351 - val_accuracy: 0.9394\n",
            "Epoch 54/100\n",
            "213/213 [==============================] - 2s 8ms/step - loss: 1.7097e-05 - accuracy: 1.0000 - val_loss: 0.7367 - val_accuracy: 0.9394\n",
            "Epoch 55/100\n",
            "213/213 [==============================] - 2s 9ms/step - loss: 1.5476e-05 - accuracy: 1.0000 - val_loss: 0.7402 - val_accuracy: 0.9394\n",
            "Epoch 56/100\n",
            "213/213 [==============================] - 2s 8ms/step - loss: 1.3813e-05 - accuracy: 1.0000 - val_loss: 0.7441 - val_accuracy: 0.9394\n",
            "Epoch 57/100\n",
            "213/213 [==============================] - 2s 8ms/step - loss: 1.2354e-05 - accuracy: 1.0000 - val_loss: 0.7470 - val_accuracy: 0.9394\n",
            "Epoch 58/100\n",
            "213/213 [==============================] - 2s 9ms/step - loss: 1.1110e-05 - accuracy: 1.0000 - val_loss: 0.7513 - val_accuracy: 0.9394\n",
            "Epoch 59/100\n",
            "213/213 [==============================] - 2s 9ms/step - loss: 1.0023e-05 - accuracy: 1.0000 - val_loss: 0.7536 - val_accuracy: 0.9394\n",
            "Epoch 60/100\n",
            "213/213 [==============================] - 2s 8ms/step - loss: 8.9721e-06 - accuracy: 1.0000 - val_loss: 0.7583 - val_accuracy: 0.9394\n",
            "Epoch 61/100\n",
            "213/213 [==============================] - 2s 8ms/step - loss: 8.0962e-06 - accuracy: 1.0000 - val_loss: 0.7610 - val_accuracy: 0.9394\n",
            "Epoch 62/100\n",
            "213/213 [==============================] - 2s 8ms/step - loss: 7.2542e-06 - accuracy: 1.0000 - val_loss: 0.7630 - val_accuracy: 0.9394\n",
            "Epoch 63/100\n",
            "213/213 [==============================] - 2s 8ms/step - loss: 6.5080e-06 - accuracy: 1.0000 - val_loss: 0.7666 - val_accuracy: 0.9394\n",
            "Epoch 64/100\n",
            "213/213 [==============================] - 2s 8ms/step - loss: 5.8499e-06 - accuracy: 1.0000 - val_loss: 0.7699 - val_accuracy: 0.9394\n",
            "Epoch 65/100\n",
            "213/213 [==============================] - 2s 10ms/step - loss: 5.2476e-06 - accuracy: 1.0000 - val_loss: 0.7729 - val_accuracy: 0.9394\n",
            "Epoch 66/100\n",
            "213/213 [==============================] - 2s 9ms/step - loss: 4.7389e-06 - accuracy: 1.0000 - val_loss: 0.7775 - val_accuracy: 0.9394\n",
            "Epoch 67/100\n",
            "213/213 [==============================] - 2s 8ms/step - loss: 4.2846e-06 - accuracy: 1.0000 - val_loss: 0.7802 - val_accuracy: 0.9394\n",
            "Epoch 68/100\n",
            "213/213 [==============================] - 2s 8ms/step - loss: 3.8321e-06 - accuracy: 1.0000 - val_loss: 0.7835 - val_accuracy: 0.9394\n",
            "Epoch 69/100\n",
            "213/213 [==============================] - 2s 8ms/step - loss: 3.4509e-06 - accuracy: 1.0000 - val_loss: 0.7875 - val_accuracy: 0.9394\n",
            "Epoch 70/100\n",
            "213/213 [==============================] - 2s 8ms/step - loss: 3.1262e-06 - accuracy: 1.0000 - val_loss: 0.7903 - val_accuracy: 0.9394\n",
            "Epoch 71/100\n",
            "213/213 [==============================] - 2s 8ms/step - loss: 2.8375e-06 - accuracy: 1.0000 - val_loss: 0.7943 - val_accuracy: 0.9394\n",
            "Epoch 72/100\n",
            "213/213 [==============================] - 2s 11ms/step - loss: 2.5382e-06 - accuracy: 1.0000 - val_loss: 0.7981 - val_accuracy: 0.9394\n",
            "Epoch 73/100\n",
            "213/213 [==============================] - 2s 9ms/step - loss: 2.2570e-06 - accuracy: 1.0000 - val_loss: 0.8014 - val_accuracy: 0.9394\n",
            "Epoch 74/100\n",
            "213/213 [==============================] - 2s 8ms/step - loss: 2.0241e-06 - accuracy: 1.0000 - val_loss: 0.8018 - val_accuracy: 0.9394\n",
            "Epoch 75/100\n",
            "213/213 [==============================] - 2s 8ms/step - loss: 1.8254e-06 - accuracy: 1.0000 - val_loss: 0.8064 - val_accuracy: 0.9394\n",
            "Epoch 76/100\n",
            "213/213 [==============================] - 2s 8ms/step - loss: 1.6554e-06 - accuracy: 1.0000 - val_loss: 0.8104 - val_accuracy: 0.9394\n",
            "Epoch 77/100\n",
            "213/213 [==============================] - 2s 8ms/step - loss: 1.5098e-06 - accuracy: 1.0000 - val_loss: 0.8134 - val_accuracy: 0.9394\n",
            "Epoch 78/100\n",
            "213/213 [==============================] - 2s 8ms/step - loss: 1.3579e-06 - accuracy: 1.0000 - val_loss: 0.8170 - val_accuracy: 0.9394\n",
            "Epoch 79/100\n",
            "213/213 [==============================] - 2s 11ms/step - loss: 1.2228e-06 - accuracy: 1.0000 - val_loss: 0.8206 - val_accuracy: 0.9394\n",
            "Epoch 80/100\n",
            "213/213 [==============================] - 2s 8ms/step - loss: 1.1035e-06 - accuracy: 1.0000 - val_loss: 0.8229 - val_accuracy: 0.9394\n",
            "Epoch 81/100\n",
            "213/213 [==============================] - 2s 8ms/step - loss: 9.9184e-07 - accuracy: 1.0000 - val_loss: 0.8261 - val_accuracy: 0.9394\n",
            "Epoch 82/100\n",
            "213/213 [==============================] - 2s 8ms/step - loss: 9.0443e-07 - accuracy: 1.0000 - val_loss: 0.8290 - val_accuracy: 0.9394\n",
            "Epoch 83/100\n",
            "213/213 [==============================] - 2s 8ms/step - loss: 8.1625e-07 - accuracy: 1.0000 - val_loss: 0.8336 - val_accuracy: 0.9394\n",
            "Epoch 84/100\n",
            "213/213 [==============================] - 2s 8ms/step - loss: 7.2263e-07 - accuracy: 1.0000 - val_loss: 0.8355 - val_accuracy: 0.9394\n",
            "Epoch 85/100\n",
            "213/213 [==============================] - 2s 8ms/step - loss: 6.4897e-07 - accuracy: 1.0000 - val_loss: 0.8403 - val_accuracy: 0.9394\n",
            "Epoch 86/100\n",
            "213/213 [==============================] - 2s 11ms/step - loss: 5.9160e-07 - accuracy: 1.0000 - val_loss: 0.8423 - val_accuracy: 0.9394\n",
            "Epoch 87/100\n",
            "213/213 [==============================] - 2s 9ms/step - loss: 5.3741e-07 - accuracy: 1.0000 - val_loss: 0.8450 - val_accuracy: 0.9394\n",
            "Epoch 88/100\n",
            "213/213 [==============================] - 2s 8ms/step - loss: 4.8811e-07 - accuracy: 1.0000 - val_loss: 0.8480 - val_accuracy: 0.9394\n",
            "Epoch 89/100\n",
            "213/213 [==============================] - 2s 8ms/step - loss: 4.4493e-07 - accuracy: 1.0000 - val_loss: 0.8518 - val_accuracy: 0.9394\n",
            "Epoch 90/100\n",
            "213/213 [==============================] - 2s 8ms/step - loss: 4.0540e-07 - accuracy: 1.0000 - val_loss: 0.8543 - val_accuracy: 0.9394\n",
            "Epoch 91/100\n",
            "213/213 [==============================] - 2s 8ms/step - loss: 3.7552e-07 - accuracy: 1.0000 - val_loss: 0.8577 - val_accuracy: 0.9394\n",
            "Epoch 92/100\n",
            "213/213 [==============================] - 2s 9ms/step - loss: 3.4195e-07 - accuracy: 1.0000 - val_loss: 0.8608 - val_accuracy: 0.9394\n",
            "Epoch 93/100\n",
            "213/213 [==============================] - 2s 10ms/step - loss: 3.1110e-07 - accuracy: 1.0000 - val_loss: 0.8636 - val_accuracy: 0.9394\n",
            "Epoch 94/100\n",
            "213/213 [==============================] - 2s 8ms/step - loss: 2.8798e-07 - accuracy: 1.0000 - val_loss: 0.8654 - val_accuracy: 0.9394\n",
            "Epoch 95/100\n",
            "213/213 [==============================] - 2s 8ms/step - loss: 2.6494e-07 - accuracy: 1.0000 - val_loss: 0.8684 - val_accuracy: 0.9394\n",
            "Epoch 96/100\n",
            "213/213 [==============================] - 2s 8ms/step - loss: 2.4638e-07 - accuracy: 1.0000 - val_loss: 0.8717 - val_accuracy: 0.9394\n",
            "Epoch 97/100\n",
            "213/213 [==============================] - 2s 8ms/step - loss: 2.2746e-07 - accuracy: 1.0000 - val_loss: 0.8731 - val_accuracy: 0.9394\n",
            "Epoch 98/100\n",
            "213/213 [==============================] - 2s 8ms/step - loss: 2.0567e-07 - accuracy: 1.0000 - val_loss: 0.8765 - val_accuracy: 0.9394\n",
            "Epoch 99/100\n",
            "213/213 [==============================] - 2s 10ms/step - loss: 1.9396e-07 - accuracy: 1.0000 - val_loss: 0.8792 - val_accuracy: 0.9394\n",
            "Epoch 100/100\n",
            "213/213 [==============================] - 2s 9ms/step - loss: 1.7938e-07 - accuracy: 1.0000 - val_loss: 0.8820 - val_accuracy: 0.9394\n",
            "67/67 [==============================] - 0s 4ms/step - loss: 0.0722 - accuracy: 0.9948\n",
            "Test Loss: 0.07217121869325638\n",
            "Test Accuracy: 0.9948235154151917\n"
          ]
        }
      ],
      "source": [
        "# Entraînement du modèle\n",
        "epochs = 100  # Nombre d'époques d'entraînement\n",
        "batch_size = 32  # Taille du lot\n",
        "model.fit(train_data, train_labels, epochs=epochs, batch_size=batch_size, validation_split=0.2)\n",
        "\n",
        "# Évaluation du modèle sur les données de test\n",
        "loss, accuracy = model.evaluate(test_data, test_labels, batch_size=batch_size)\n",
        "print(\"Test Loss:\", loss)\n",
        "print(\"Test Accuracy:\", accuracy)"
      ]
    },
    {
      "cell_type": "code",
      "execution_count": 39,
      "metadata": {
        "colab": {
          "base_uri": "https://localhost:8080/"
        },
        "id": "HqASD_M-hP_T",
        "outputId": "405baa13-e84d-4461-c2f7-7a198aced792"
      },
      "outputs": [
        {
          "output_type": "stream",
          "name": "stdout",
          "text": [
            "1/1 [==============================] - 0s 18ms/step\n",
            "Phrase : Mauvais equipement  qualité des produits 0 le service 0 les prix très élevés,Trop de bruit ..\n",
            "Catégorie prédite : ['Qualité du Service', \"Problèmes d'Équipements et d'Installations\", 'Bruits', 'Problèmes de Prix']\n"
          ]
        }
      ],
      "source": [
        "# Supposons que vous avez une nouvelle phrase en arabe à classifier\n",
        "new_text=  \"Mauvais equipement  qualité des produits 0 le service 0 les prix très élevés,Trop de bruit ..\"\n",
        "# Prétraitement de la nouvelle phrase\n",
        "new_sequence = tokenizer.texts_to_sequences([new_text])\n",
        "new_padded_sequence = pad_sequences(new_sequence, maxlen=max_len)\n",
        "\n",
        "# Faire la prédiction\n",
        "predictions = model.predict(new_padded_sequence)\n",
        "\n",
        "# Convertir les probabilités en catégories\n",
        "predicted_category = np.argmax(predictions, axis=1)\n",
        "\n",
        "# Récupérer le nom de la catégorie prédite\n",
        "category_labels = data['predicted_problems'].unique()\n",
        "predicted_category_label = category_labels[predicted_category[0]]\n",
        "\n",
        "print(\"Phrase :\", new_text)\n",
        "print(\"Catégorie prédite :\", predicted_category_label)\n"
      ]
    },
    {
      "cell_type": "code",
      "source": [],
      "metadata": {
        "id": "lY2KFxjW2Mv-"
      },
      "execution_count": null,
      "outputs": []
    }
  ],
  "metadata": {
    "colab": {
      "provenance": [],
      "gpuType": "T4"
    },
    "kernelspec": {
      "display_name": "Python 3",
      "name": "python3"
    },
    "language_info": {
      "codemirror_mode": {
        "name": "ipython",
        "version": 3
      },
      "file_extension": ".py",
      "mimetype": "text/x-python",
      "name": "python",
      "nbconvert_exporter": "python",
      "pygments_lexer": "ipython3",
      "version": "3.9.12"
    },
    "accelerator": "GPU"
  },
  "nbformat": 4,
  "nbformat_minor": 0
}