{
 "cells": [
  {
   "cell_type": "code",
   "execution_count": 11,
   "metadata": {
    "id": "kRKQ0a0c-KMh"
   },
   "outputs": [],
   "source": [
    "\n",
    "import pandas as pd\n",
    "\n",
    "# Load your dataset\n",
    "data = pd.read_csv('/content/data_cleann.csv')\n",
    "\n",
    "problem_categories = {\n",
    "    'Qualité du Service': ['service',' Pas de sourire ', 'sans respect','accueil','Ignorance des clients', 'personnel','Erreurs de commande','communication','qualite', 'incompetent', 'amabilite', 'attitude', 'professionnalisme', 'courtoisie', 'serviable', 'reception', 'clientele', 'serveur', 'accueillant', 'gestion', 'souriant', 'professionnel', 'soin', 'Service mediocre',\n",
    "'Personnel impoli','Mauvaise nourriture','mal parlé', 'Service lent', 'Nourriture froide','Plats mal prepares','Personnel inattentif'],\n",
    "    'Propreté et Hygiène': ['proprete', 'hygiene', 'sale', 'insalubre', 'nettoyage', 'desordre', 'odeur', 'toilettes', 'entretien', 'draps', 'serviettes', 'poussiere', 'linge', 'nettoyer', 'bain', 'hygienique', 'desinfecter', 'propre'],\n",
    "    'Problèmes d\\'Équipements et d\\'Installations': ['équipement', 'installation', 'dysfonctionnement', 'reparation', 'panne', 'vetuste', 'maintenance','fuite', 'appareil', 'fonctionner', 'eclairage', 'climatisation', 'chauffage', 'douche', 'TV', 'wifi', 'interrupteur', 'clims',\n",
    "  'ascenseur', 'installation', 'fonctionnelle', 'defectueux'],\n",
    "    'Problèmes de Réservation': ['reservation', 'reserve', 'confirmation', 'annulation', 'erreur', 'disponibilite', 'réservation', 'confirmer', 'annuler', 'erreur', 'dates', 'réservée', 'confirmation', 'occupee', 'indisponible', 'reservable'],\n",
    "    'Bruits': ['bruit', 'sonore', 'dormir','nuisance', 'insonorisation', 'tapage', 'vacarme', 'musique', 'travaux', 'bruyant', 'calme', 'isole', 'derangement', 'sommeil', 'nuisible', 'ambiance', 'intense', 'eclatant','gênant','genant'],\n",
    "    'Problèmes de Prix': ['prix', 'facturation','Prix eleves','coût', 'cout','tarif', 'cher', 'abordable', 'budget', 'facture', 'economique', 'offre', 'promotion', 'coûteux','couteux','couteuse', 'exorbitant', 'tarification', 'abordabilite', 'prix eleve', 'payer', 'depense', 'abordable', 'valeurs', 'prix justifie'],\n",
    "    'Retard': ['retard', 'attente', 'horaire', 'ponctualite', 'retarder', 'attendre', 'retardataire', 'retarde', 'arrivee', 'decalage', 'retenu', 'attendu', 'retardataires', 'prevu', 'heures', 'delai', 'retards', 'programme', 'heure', 'retardee'],\n",
    "    # Add more keywords to each category as needed\n",
    "}\n",
    "\n",
    "# Function to predict problems using the dictionary\n",
    "def predict_problems(comment):\n",
    "    if isinstance(comment, str):\n",
    "        predicted_problems = []\n",
    "        for category, keywords in problem_categories.items():\n",
    "            for keyword in keywords:\n",
    "                if keyword in comment.lower():\n",
    "                    predicted_problems.append(category)\n",
    "                    break\n",
    "        return predicted_problems\n",
    "    else:\n",
    "        return []\n"
   ]
  },
  {
   "cell_type": "code",
   "execution_count": null,
   "metadata": {
    "id": "kIwyXSrYWeex"
   },
   "outputs": [],
   "source": [
    "#appliquer ce block une fois\n",
    "\n",
    "# Apply the prediction function to the \"commentaire\" column and create a new column for the predictions\n",
    "data['predicted_problems'] = data['commentaire'].apply(predict_problems)\n",
    "\n",
    "# Save the updated dataset with predictions\n",
    "data.to_csv('/content/data_with_predictions.csv', index=False)\n",
    "\n",
    "# Nouveau commentaire que vous voulez tester\n",
    "nouveau_commentaire = \"L'hôtel n'est pas propre, salle de bain horrible et les gens gardent la télévision allumée toute la nuit trop fort pour vous laisser dormir, le personnel n'a rien fait\"\n",
    "\n",
    "# Predict problems for the new comment using the dictionary\n",
    "nouveau_predicted_problems = predict_problems(nouveau_commentaire)\n",
    "\n",
    "# Display the predicted problems for the new comment\n",
    "print(\"Nouveau commentaire :\", nouveau_commentaire)\n",
    "print(\"Problèmes prédits :\", nouveau_predicted_problems)\n"
   ]
  },
  {
   "cell_type": "code",
   "execution_count": 12,
   "metadata": {
    "colab": {
     "base_uri": "https://localhost:8080/"
    },
    "id": "l_RNiurtBx2V",
    "outputId": "bf1febec-4bf6-4737-dcc1-3aa06a7cdc5a"
   },
   "outputs": [
    {
     "name": "stdout",
     "output_type": "stream",
     "text": [
      "Commentaire :  il manque d'installation médicales et ne soucie pas des patients il n'a pas des système comme les autres hôpitaux beaucoup de vies ont éte perdues\n",
      "Problèmes prédits : [\"Problèmes d'Équipements et d'Installations\"]\n",
      "--------------------------------------------------\n",
      "Commentaire :  Malheureusement pas hygiénique du tout. Ça sent mauvais partout et rien n'a l'air propre. Très délabré et qui a grand besoin d'une rénovation. Le médecin ne donne pas au patient un regard amical. Pas de sourire des enfants\n",
      "Problèmes prédits : ['Qualité du Service', 'Propreté et Hygiène', 'Retard']\n",
      "--------------------------------------------------\n",
      "Commentaire : Prix excessivement cher le rapport qualité prix est misérable j’ai prit une assiette de brochette de poulet à 20€\n",
      "Problèmes prédits : ['Problèmes de Prix']\n",
      "--------------------------------------------------\n",
      "Commentaire : eau cadre cependant restaurant très cher pour très peu: couscous sans poids chich ni harissa, plat très peu épicée bref environ 40 euros de plat dans le vent\n",
      "Problèmes prédits : ['Problèmes de Prix']\n",
      "--------------------------------------------------\n",
      "Commentaire :  La nourriture n’est pas fraîche, très sèche et de mauvaises qualité surtout pour le prix\n",
      "Problèmes prédits : ['Problèmes de Prix']\n",
      "--------------------------------------------------\n"
     ]
    }
   ],
   "source": [
    "#code pour ajouter a chaque fois les commentaires et la prediction a dataset \"data_with_predictions\"\n",
    "\n",
    "# Load your existing dataset with predictions\n",
    "data_with_predictions = pd.read_csv('/content/data_with_predictions.csv')\n",
    "\n",
    "# New comments and their predictions\n",
    "new_comments = [\n",
    "    \" il manque d'installation médicales et ne soucie pas des patients il n'a pas des système comme les autres hôpitaux beaucoup de vies ont éte perdues\",\n",
    "    \" Malheureusement pas hygiénique du tout. Ça sent mauvais partout et rien n'a l'air propre. Très délabré et qui a grand besoin d'une rénovation. Le médecin ne donne pas au patient un regard amical. Pas de sourire des enfants\",\n",
    "    \"Prix excessivement cher le rapport qualité prix est misérable j’ai prit une assiette de brochette de poulet à 20€\",\n",
    "    \"eau cadre cependant restaurant très cher pour très peu: couscous sans poids chich ni harissa, plat très peu épicée bref environ 40 euros de plat dans le vent\",\n",
    "    \" La nourriture n’est pas fraîche, très sèche et de mauvaises qualité surtout pour le prix\"\n",
    "    # Add more new comments as needed\n",
    "]\n",
    "\n",
    "new_predicted_problems = [predict_problems(comment) for comment in new_comments]\n",
    "\n",
    "# Create a DataFrame for the new data\n",
    "new_data = pd.DataFrame({'commentaire': new_comments, 'predicted_problems': new_predicted_problems})\n",
    "\n",
    "# Concatenate the new DataFrame with the existing one\n",
    "updated_data = pd.concat([data_with_predictions, new_data], ignore_index=True)\n",
    "\n",
    "# Display the predicted problems for each new comment\n",
    "for i, comment in enumerate(new_comments):\n",
    "    predicted_problems = new_predicted_problems[i]\n",
    "    print(f\"Commentaire : {comment}\")\n",
    "    print(\"Problèmes prédits :\", predicted_problems)\n",
    "    print(\"-\" * 50)\n"
   ]
  },
  {
   "cell_type": "code",
   "execution_count": 13,
   "metadata": {
    "colab": {
     "base_uri": "https://localhost:8080/"
    },
    "id": "PGY49ekMDjfq",
    "outputId": "54df5e03-109d-48c1-e137-2b23f7f4d415"
   },
   "outputs": [
    {
     "name": "stdout",
     "output_type": "stream",
     "text": [
      "Updated dataset saved to 'data_with_predictions.csv'\n"
     ]
    }
   ],
   "source": [
    "\n",
    "# Save the updated dataset\n",
    "updated_data.to_csv('/content/data_with_predictions.csv', index=False)\n",
    "\n",
    "print(\"Updated dataset saved to 'data_with_predictions.csv'\")\n"
   ]
  }
 ],
 "metadata": {
  "colab": {
   "provenance": []
  },
  "kernelspec": {
   "display_name": "Python 3 (ipykernel)",
   "language": "python",
   "name": "python3"
  },
  "language_info": {
   "codemirror_mode": {
    "name": "ipython",
    "version": 3
   },
   "file_extension": ".py",
   "mimetype": "text/x-python",
   "name": "python",
   "nbconvert_exporter": "python",
   "pygments_lexer": "ipython3",
   "version": "3.9.12"
  }
 },
 "nbformat": 4,
 "nbformat_minor": 1
}
