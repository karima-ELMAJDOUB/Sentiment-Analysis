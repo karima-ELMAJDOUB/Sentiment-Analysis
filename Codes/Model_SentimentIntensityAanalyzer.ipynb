{
  "nbformat": 4,
  "nbformat_minor": 0,
  "metadata": {
    "colab": {
      "provenance": []
    },
    "kernelspec": {
      "name": "python3",
      "display_name": "Python 3"
    },
    "language_info": {
      "name": "python"
    }
  },
  "cells": [
    {
      "cell_type": "code",
      "source": [
        "from nltk.sentiment import SentimentIntensityAnalyzer\n",
        "import nltk\n",
        "# Download the vader_lexicon resource\n",
        "nltk.download('vader_lexicon')"
      ],
      "metadata": {
        "colab": {
          "base_uri": "https://localhost:8080/"
        },
        "id": "pXPulnjkvOXO",
        "outputId": "25b8d8dc-bf18-40ef-a9f8-283210c18f0f"
      },
      "execution_count": 1,
      "outputs": [
        {
          "output_type": "stream",
          "name": "stderr",
          "text": [
            "[nltk_data] Downloading package vader_lexicon to /root/nltk_data...\n"
          ]
        },
        {
          "output_type": "execute_result",
          "data": {
            "text/plain": [
              "True"
            ]
          },
          "metadata": {},
          "execution_count": 1
        }
      ]
    },
    {
      "cell_type": "code",
      "source": [
        "# Import the necessary libraries\n",
        "import pandas as pd\n",
        "from nltk.sentiment import SentimentIntensityAnalyzer\n",
        "\n",
        "# Load the dataset containing the \"commentaire\" column\n",
        "data = pd.read_csv('/content/data_cleann.csv')\n",
        "\n",
        "# Drop rows with missing values in the \"commentaire\" column\n",
        "data = data.dropna(subset=['commentaire'])\n",
        "\n",
        "# Initialize the SentimentIntensityAnalyzer\n",
        "sia = SentimentIntensityAnalyzer()\n",
        "\n",
        "# Analyze the sentiment of each comment and add a new column \"sentiment\" to the DataFrame\n",
        "data['sentiment'] = data['commentaire'].apply(lambda x: sia.polarity_scores(x)['compound'])\n",
        "\n",
        "# Define a list of threshold values to try\n",
        "threshold_values = [0.01, 0.02, 0.03, 0.04, 0.05, 0.06, 0.07, 0.08, 0.09, 0.1]\n",
        "\n",
        "# Function to classify comments based on the threshold\n",
        "def classify_sentiment(score, threshold):\n",
        "    return 'positive' if score > threshold else 'negative'\n",
        "\n",
        "# Evaluate different threshold values and store the results\n",
        "results = {}\n",
        "for threshold in threshold_values:\n",
        "    data['sentiment_label'] = data['sentiment'].apply(lambda x: classify_sentiment(x, threshold))\n",
        "    accuracy = (data['sentiment_label'] == data['sentiment_label']).mean()\n",
        "    results[threshold] = accuracy\n",
        "\n",
        "# Find the threshold with the highest accuracy\n",
        "best_threshold = max(results, key=results.get)\n",
        "\n",
        "# Use the best threshold to classify comments\n",
        "data['sentiment_label'] = data['sentiment'].apply(lambda x: classify_sentiment(x, best_threshold))\n",
        "\n",
        "# Print the DataFrame with the sentiment classification\n",
        "print(data[['commentaire', 'sentiment_label']])\n",
        "\n",
        "# Now, let's add a new comment in French to test the model\n",
        "new_comment_french = \" je n'ai pas du tout aimé le service.\"\n",
        "\n",
        "# Analyze the sentiment of the new comment\n",
        "new_comment_sentiment = sia.polarity_scores(new_comment_french)['compound']\n",
        "\n",
        "# Classify the sentiment of the new comment based on the best threshold\n",
        "new_comment_sentiment_label = classify_sentiment(new_comment_sentiment, best_threshold)\n",
        "\n",
        "# Print the sentiment label for the new comment\n",
        "print(f\"Predicted Sentiment Label for New Comment: {new_comment_sentiment_label}\")\n"
      ],
      "metadata": {
        "colab": {
          "base_uri": "https://localhost:8080/"
        },
        "id": "DeHtlotHw5Gx",
        "outputId": "9ecc0003-8746-4572-9b6f-28581b42bf03"
      },
      "execution_count": 3,
      "outputs": [
        {
          "output_type": "stream",
          "name": "stdout",
          "text": [
            "                                             commentaire sentiment_label\n",
            "0      remerciements sinceres devouement exceptionnel...        negative\n",
            "1      ravie partager experience positive precieuseme...        positive\n",
            "2      somme aller o maroc soins accompagne maman con...        negative\n",
            "3      cellule reclamation bonjour a tous remercie be...        negative\n",
            "4      tiens a remercier sincerement filles prise cha...        negative\n",
            "...                                                  ...             ...\n",
            "12149              mauvaise nourriture propre recommande        negative\n",
            "12150                mauvais service mauvaise nourriture        negative\n",
            "12151              tres mauvais service serveurs impolis        negative\n",
            "12152  superbe batiment mauresque serveur raciste inj...        negative\n",
            "12153                                     decevant trois        negative\n",
            "\n",
            "[12150 rows x 2 columns]\n",
            "Predicted Sentiment Label for New Comment: negative\n"
          ]
        }
      ]
    },
    {
      "cell_type": "code",
      "source": [
        "# Filter and display only the negative comments\n",
        "negative_comments = data[data['sentiment_label'] == 'negative'][['commentaire', 'sentiment_label']]\n",
        "print(negative_comments)\n"
      ],
      "metadata": {
        "colab": {
          "base_uri": "https://localhost:8080/"
        },
        "id": "u28c6yY6xoDo",
        "outputId": "43d5e725-2ba5-46cf-d39b-399391567a8a"
      },
      "execution_count": null,
      "outputs": [
        {
          "output_type": "stream",
          "name": "stdout",
          "text": [
            "                                             commentaire sentiment_label\n",
            "0      remerciements sinceres devouement exceptionnel...        negative\n",
            "2      somme aller o maroc soins accompagne maman con...        negative\n",
            "3      cellule reclamation bonjour a tous remercie be...        negative\n",
            "4      tiens a remercier sincerement filles prise cha...        negative\n",
            "5      orl edghiri medecin nul ramene pere consulter ...        negative\n",
            "...                                                  ...             ...\n",
            "12149              mauvaise nourriture propre recommande        negative\n",
            "12150                mauvais service mauvaise nourriture        negative\n",
            "12151              tres mauvais service serveurs impolis        negative\n",
            "12152  superbe batiment mauresque serveur raciste inj...        negative\n",
            "12153                                     decevant trois        negative\n",
            "\n",
            "[9969 rows x 2 columns]\n"
          ]
        }
      ]
    },
    {
      "cell_type": "code",
      "source": [
        "# Enregistrez les modifications dans autre fichier\n",
        "data.to_csv('/content/model3.csv', index=False)"
      ],
      "metadata": {
        "id": "BhjPcoYDxp7b"
      },
      "execution_count": null,
      "outputs": []
    }
  ]
}